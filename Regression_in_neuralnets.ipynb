{
  "nbformat": 4,
  "nbformat_minor": 0,
  "metadata": {
    "colab": {
      "provenance": [],
      "authorship_tag": "ABX9TyMVpZW9Az2FYn8eWyPYayAt",
      "include_colab_link": true
    },
    "kernelspec": {
      "name": "python3",
      "display_name": "Python 3"
    },
    "language_info": {
      "name": "python"
    }
  },
  "cells": [
    {
      "cell_type": "markdown",
      "metadata": {
        "id": "view-in-github",
        "colab_type": "text"
      },
      "source": [
        "<a href=\"https://colab.research.google.com/github/Foxess/Neural-Nets/blob/main/Regression_in_neuralnets.ipynb\" target=\"_parent\"><img src=\"https://colab.research.google.com/assets/colab-badge.svg\" alt=\"Open In Colab\"/></a>"
      ]
    },
    {
      "cell_type": "code",
      "execution_count": 22,
      "metadata": {
        "id": "tMG7Eb5Uf891"
      },
      "outputs": [],
      "source": [
        "#importing libraries\n",
        "import math\n",
        "import pandas as pd\n",
        "import tensorflow as tf\n",
        "import matplotlib.pyplot as plt\n",
        "from tensorflow.keras import Model\n",
        "from tensorflow.keras import Sequential\n",
        "from tensorflow.keras.optimizers import Adam\n",
        "from sklearn.preprocessing import StandardScaler\n",
        "from tensorflow.keras import layers, callbacks\n",
        "from tensorflow.keras.layers import Dense, Dropout\n",
        "from sklearn.model_selection import train_test_split\n",
        "from tensorflow.keras.losses import MeanSquaredLogarithmicError\n",
        "TRAIN_DATA_PATH = '/content/sample_data/california_housing_train.csv'\n",
        "TEST_DATA_PATH = '/content/sample_data/california_housing_test.csv'\n",
        "TARGET_NAME = 'median_house_value'"
      ]
    },
    {
      "cell_type": "code",
      "source": [
        "# x_train = features, y_train = target\n",
        "train_data = pd.read_csv(TRAIN_DATA_PATH)\n",
        "test_data = pd.read_csv(TEST_DATA_PATH)\n",
        "x_train, y_train = train_data.drop(TARGET_NAME, axis=1), train_data[TARGET_NAME]\n",
        "x_test, y_test = test_data.drop(TARGET_NAME, axis=1), test_data[TARGET_NAME]"
      ],
      "metadata": {
        "id": "_Oseg01rgHgl"
      },
      "execution_count": 23,
      "outputs": []
    },
    {
      "cell_type": "code",
      "source": [
        "#Scaling the data\n",
        "def scale_datasets(x_train, x_test):\n",
        "\n",
        "  \"\"\"\n",
        "  Standard Scale test and train data\n",
        "  Z - Score normalization\n",
        "  \"\"\"\n",
        "  standard_scaler = StandardScaler()\n",
        "  x_train_scaled = pd.DataFrame(\n",
        "      standard_scaler.fit_transform(x_train),\n",
        "      columns=x_train.columns\n",
        "  )\n",
        "  x_test_scaled = pd.DataFrame(\n",
        "      standard_scaler.transform(x_test),\n",
        "      columns = x_test.columns\n",
        "  )\n",
        "  return x_train_scaled, x_test_scaled\n",
        "x_train_scaled, x_test_scaled = scale_datasets(x_train, x_test)"
      ],
      "metadata": {
        "id": "KBRA95VbhPiz"
      },
      "execution_count": 24,
      "outputs": []
    },
    {
      "cell_type": "code",
      "source": [
        "early_stopping = callbacks.EarlyStopping(\n",
        "    min_delta=0.001, # minimium amount of change to count as an improvement\n",
        "    patience=20, # how many epochs to wait before stopping\n",
        "    restore_best_weights=True,\n",
        ")"
      ],
      "metadata": {
        "id": "N8KX_ZbawLpp"
      },
      "execution_count": 31,
      "outputs": []
    },
    {
      "cell_type": "code",
      "source": [
        "\n",
        "#learning_rate = 0.01\n",
        "# Creating model using the Sequential in tensorflow\n",
        "def build_model_using_sequential():\n",
        "  model = Sequential([\n",
        "    Dense(160, kernel_initializer='normal', activation='relu'),\n",
        "    Dropout(0.2),\n",
        "    Dense(480, kernel_initializer='normal', activation='relu'),\n",
        "    Dropout(0.2),\n",
        "    Dense(256, kernel_initializer='normal', activation='relu'),\n",
        "    Dense(1, kernel_initializer='normal', activation='linear')\n",
        "  ])\n",
        "  return model\n",
        "# build the model\n",
        "model = build_model_using_sequential()"
      ],
      "metadata": {
        "id": "P7aVYFoPjimu"
      },
      "execution_count": 32,
      "outputs": []
    },
    {
      "cell_type": "code",
      "source": [
        "# loss function\n",
        "msle = MeanSquaredLogarithmicError()\n",
        "model.compile(loss=msle,  optimizer=Adam(learning_rate=0.01), metrics=[msle])\n",
        "# train the model\n",
        "history = model.fit(\n",
        "    x_train_scaled.values,\n",
        "    y_train.values,\n",
        "    epochs=20,\n",
        "    #callbacks=[early_stopping],\n",
        "    batch_size=64,\n",
        "    validation_split=0.2\n",
        ")"
      ],
      "metadata": {
        "colab": {
          "base_uri": "https://localhost:8080/"
        },
        "id": "INzu54hCttEX",
        "outputId": "e5a7622e-4c61-4c8f-a67b-73e4f34f1168"
      },
      "execution_count": 33,
      "outputs": [
        {
          "output_type": "stream",
          "name": "stdout",
          "text": [
            "Epoch 1/20\n",
            "213/213 [==============================] - 4s 12ms/step - loss: 5.2332 - mean_squared_logarithmic_error: 5.2214 - val_loss: 0.6504 - val_mean_squared_logarithmic_error: 0.6470\n",
            "Epoch 2/20\n",
            "213/213 [==============================] - 1s 7ms/step - loss: 0.2498 - mean_squared_logarithmic_error: 0.2495 - val_loss: 0.3803 - val_mean_squared_logarithmic_error: 0.3848\n",
            "Epoch 3/20\n",
            "213/213 [==============================] - 1s 6ms/step - loss: 0.1887 - mean_squared_logarithmic_error: 0.1887 - val_loss: 0.2722 - val_mean_squared_logarithmic_error: 0.2795\n",
            "Epoch 4/20\n",
            "213/213 [==============================] - 1s 6ms/step - loss: 0.1507 - mean_squared_logarithmic_error: 0.1506 - val_loss: 0.2028 - val_mean_squared_logarithmic_error: 0.2102\n",
            "Epoch 5/20\n",
            "213/213 [==============================] - 1s 6ms/step - loss: 0.1250 - mean_squared_logarithmic_error: 0.1249 - val_loss: 0.1604 - val_mean_squared_logarithmic_error: 0.1677\n",
            "Epoch 6/20\n",
            "213/213 [==============================] - 1s 6ms/step - loss: 0.1126 - mean_squared_logarithmic_error: 0.1127 - val_loss: 0.1392 - val_mean_squared_logarithmic_error: 0.1461\n",
            "Epoch 7/20\n",
            "213/213 [==============================] - 1s 6ms/step - loss: 0.1070 - mean_squared_logarithmic_error: 0.1069 - val_loss: 0.1313 - val_mean_squared_logarithmic_error: 0.1382\n",
            "Epoch 8/20\n",
            "213/213 [==============================] - 1s 6ms/step - loss: 0.1025 - mean_squared_logarithmic_error: 0.1025 - val_loss: 0.1214 - val_mean_squared_logarithmic_error: 0.1279\n",
            "Epoch 9/20\n",
            "213/213 [==============================] - 2s 10ms/step - loss: 0.1009 - mean_squared_logarithmic_error: 0.1010 - val_loss: 0.1205 - val_mean_squared_logarithmic_error: 0.1267\n",
            "Epoch 10/20\n",
            "213/213 [==============================] - 2s 8ms/step - loss: 0.0981 - mean_squared_logarithmic_error: 0.0981 - val_loss: 0.1199 - val_mean_squared_logarithmic_error: 0.1257\n",
            "Epoch 11/20\n",
            "213/213 [==============================] - 1s 6ms/step - loss: 0.0970 - mean_squared_logarithmic_error: 0.0969 - val_loss: 0.1142 - val_mean_squared_logarithmic_error: 0.1197\n",
            "Epoch 12/20\n",
            "213/213 [==============================] - 1s 6ms/step - loss: 0.0959 - mean_squared_logarithmic_error: 0.0958 - val_loss: 0.1181 - val_mean_squared_logarithmic_error: 0.1247\n",
            "Epoch 13/20\n",
            "213/213 [==============================] - 1s 6ms/step - loss: 0.0952 - mean_squared_logarithmic_error: 0.0953 - val_loss: 0.1241 - val_mean_squared_logarithmic_error: 0.1318\n",
            "Epoch 14/20\n",
            "213/213 [==============================] - 1s 6ms/step - loss: 0.0948 - mean_squared_logarithmic_error: 0.0949 - val_loss: 0.1160 - val_mean_squared_logarithmic_error: 0.1222\n",
            "Epoch 15/20\n",
            "213/213 [==============================] - 1s 7ms/step - loss: 0.0941 - mean_squared_logarithmic_error: 0.0940 - val_loss: 0.1069 - val_mean_squared_logarithmic_error: 0.1117\n",
            "Epoch 16/20\n",
            "213/213 [==============================] - 2s 7ms/step - loss: 0.0941 - mean_squared_logarithmic_error: 0.0942 - val_loss: 0.1141 - val_mean_squared_logarithmic_error: 0.1203\n",
            "Epoch 17/20\n",
            "213/213 [==============================] - 2s 10ms/step - loss: 0.0936 - mean_squared_logarithmic_error: 0.0936 - val_loss: 0.1158 - val_mean_squared_logarithmic_error: 0.1217\n",
            "Epoch 18/20\n",
            "213/213 [==============================] - 2s 11ms/step - loss: 0.0939 - mean_squared_logarithmic_error: 0.0939 - val_loss: 0.1100 - val_mean_squared_logarithmic_error: 0.1158\n",
            "Epoch 19/20\n",
            "213/213 [==============================] - 2s 8ms/step - loss: 0.0934 - mean_squared_logarithmic_error: 0.0933 - val_loss: 0.1054 - val_mean_squared_logarithmic_error: 0.1107\n",
            "Epoch 20/20\n",
            "213/213 [==============================] - 2s 7ms/step - loss: 0.0932 - mean_squared_logarithmic_error: 0.0932 - val_loss: 0.0988 - val_mean_squared_logarithmic_error: 0.1032\n"
          ]
        }
      ]
    },
    {
      "cell_type": "code",
      "source": [
        "def plot_history(history, key):\n",
        "  plt.plot(history.history[key])\n",
        "  plt.plot(history.history['val_'+key])\n",
        "  plt.xlabel(\"Epochs\")\n",
        "  plt.ylabel(key)\n",
        "  plt.legend([key, 'val_'+key])\n",
        "  plt.show()\n",
        "# Plot the history\n",
        "plot_history(history, 'mean_squared_logarithmic_error')"
      ],
      "metadata": {
        "colab": {
          "base_uri": "https://localhost:8080/",
          "height": 449
        },
        "id": "TULrwfAjyHLk",
        "outputId": "7328a531-6870-4893-a1e1-8c26baeb7b4e"
      },
      "execution_count": 34,
      "outputs": [
        {
          "output_type": "display_data",
          "data": {
            "text/plain": [
              "<Figure size 640x480 with 1 Axes>"
            ],
            "image/png": "[encoded data removed]"
          },
          "metadata": {}
        }
      ]
    }
  ]
}