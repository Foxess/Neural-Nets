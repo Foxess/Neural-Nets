{
  "nbformat": 4,
  "nbformat_minor": 0,
  "metadata": {
    "colab": {
      "provenance": [],
      "authorship_tag": "ABX9TyPKYiGwqVXtaB6A0XtlDBXU",
      "include_colab_link": true
    },
    "kernelspec": {
      "name": "python3",
      "display_name": "Python 3"
    },
    "language_info": {
      "name": "python"
    }
  },
  "cells": [
    {
      "cell_type": "markdown",
      "metadata": {
        "id": "view-in-github",
        "colab_type": "text"
      },
      "source": [
        "<a href=\"https://colab.research.google.com/github/Foxess/Neural-Nets/blob/main/LSTM_stock_prediction.ipynb\" target=\"_parent\"><img src=\"https://colab.research.google.com/assets/colab-badge.svg\" alt=\"Open In Colab\"/></a>"
      ]
    },
    {
      "cell_type": "markdown",
      "source": [
        "# Setting up the environment"
      ],
      "metadata": {
        "id": "Pvjp6nqN9Qa7"
      }
    },
    {
      "cell_type": "code",
      "execution_count": null,
      "metadata": {
        "id": "0tTArPXc_03F"
      },
      "outputs": [],
      "source": [
        "!pip install tensorflow -qqq\n",
        "!pip install keras -qqq\n",
        "!pip install yfinance -qqq"
      ]
    },
    {
      "cell_type": "code",
      "source": [
        "import tensorflow as tf\n",
        "import keras\n",
        "import yfinance as yf\n",
        "import numpy as np\n",
        "import pandas as pd\n",
        "import matplotlib.pyplot as plt\n",
        "\n",
        "# Check TensorFlow version\n",
        "print(\"TensorFlow Version: \", tf.__version__)"
      ],
      "metadata": {
        "colab": {
          "base_uri": "https://localhost:8080/"
        },
        "id": "-xWIKwWU8IxS",
        "outputId": "55716878-d8ba-4e6f-f506-f4326434cbf8"
      },
      "execution_count": 2,
      "outputs": [
        {
          "output_type": "stream",
          "name": "stdout",
          "text": [
            "TensorFlow Version:  2.15.0\n"
          ]
        }
      ]
    },
    {
      "cell_type": "code",
      "source": [
        "# Fetch AAPL data\n",
        "aapl_data = yf.download('AAPL', start='2020-01-01', end='2024-04-30')\n",
        "\n",
        "# Display the first few rows of the dataframe\n",
        "aapl_data.tail()"
      ],
      "metadata": {
        "colab": {
          "base_uri": "https://localhost:8080/",
          "height": 256
        },
        "id": "KEuC0Lq98mlD",
        "outputId": "6a8ca37d-56f0-4b8e-b8ab-dc3a762ce374"
      },
      "execution_count": 3,
      "outputs": [
        {
          "output_type": "stream",
          "name": "stderr",
          "text": [
            "\r[*********************100%%**********************]  1 of 1 completed\n"
          ]
        },
        {
          "output_type": "execute_result",
          "data": {
            "text/plain": [
              "                  Open        High         Low       Close   Adj Close  \\\n",
              "Date                                                                     \n",
              "2024-04-23  165.350006  167.050003  164.919998  166.899994  166.899994   \n",
              "2024-04-24  166.539993  169.300003  166.210007  169.020004  169.020004   \n",
              "2024-04-25  169.529999  170.610001  168.149994  169.889999  169.889999   \n",
              "2024-04-26  169.880005  171.339996  169.179993  169.300003  169.300003   \n",
              "2024-04-29  173.369995  176.029999  173.100006  173.500000  173.500000   \n",
              "\n",
              "              Volume  \n",
              "Date                  \n",
              "2024-04-23  49537800  \n",
              "2024-04-24  48251800  \n",
              "2024-04-25  50558300  \n",
              "2024-04-26  44838400  \n",
              "2024-04-29  68169400  "
            ],
            "text/html": [
              "\n",
              "  <div id=\"df-f46936d6-f124-4436-be9d-f487b8fa7103\" class=\"colab-df-container\">\n",
              "    <div>\n",
              "<style scoped>\n",
              "    .dataframe tbody tr th:only-of-type {\n",
              "        vertical-align: middle;\n",
              "    }\n",
              "\n",
              "    .dataframe tbody tr th {\n",
              "        vertical-align: top;\n",
              "    }\n",
              "\n",
              "    .dataframe thead th {\n",
              "        text-align: right;\n",
              "    }\n",
              "</style>\n",
              "<table border=\"1\" class=\"dataframe\">\n",
              "  <thead>\n",
              "    <tr style=\"text-align: right;\">\n",
              "      <th></th>\n",
              "      <th>Open</th>\n",
              "      <th>High</th>\n",
              "      <th>Low</th>\n",
              "      <th>Close</th>\n",
              "      <th>Adj Close</th>\n",
              "      <th>Volume</th>\n",
              "    </tr>\n",
              "    <tr>\n",
              "      <th>Date</th>\n",
              "      <th></th>\n",
              "      <th></th>\n",
              "      <th></th>\n",
              "      <th></th>\n",
              "      <th></th>\n",
              "      <th></th>\n",
              "    </tr>\n",
              "  </thead>\n",
              "  <tbody>\n",
              "    <tr>\n",
              "      <th>2024-04-23</th>\n",
              "      <td>165.350006</td>\n",
              "      <td>167.050003</td>\n",
              "      <td>164.919998</td>\n",
              "      <td>166.899994</td>\n",
              "      <td>166.899994</td>\n",
              "      <td>49537800</td>\n",
              "    </tr>\n",
              "    <tr>\n",
              "      <th>2024-04-24</th>\n",
              "      <td>166.539993</td>\n",
              "      <td>169.300003</td>\n",
              "      <td>166.210007</td>\n",
              "      <td>169.020004</td>\n",
              "      <td>169.020004</td>\n",
              "      <td>48251800</td>\n",
              "    </tr>\n",
              "    <tr>\n",
              "      <th>2024-04-25</th>\n",
              "      <td>169.529999</td>\n",
              "      <td>170.610001</td>\n",
              "      <td>168.149994</td>\n",
              "      <td>169.889999</td>\n",
              "      <td>169.889999</td>\n",
              "      <td>50558300</td>\n",
              "    </tr>\n",
              "    <tr>\n",
              "      <th>2024-04-26</th>\n",
              "      <td>169.880005</td>\n",
              "      <td>171.339996</td>\n",
              "      <td>169.179993</td>\n",
              "      <td>169.300003</td>\n",
              "      <td>169.300003</td>\n",
              "      <td>44838400</td>\n",
              "    </tr>\n",
              "    <tr>\n",
              "      <th>2024-04-29</th>\n",
              "      <td>173.369995</td>\n",
              "      <td>176.029999</td>\n",
              "      <td>173.100006</td>\n",
              "      <td>173.500000</td>\n",
              "      <td>173.500000</td>\n",
              "      <td>68169400</td>\n",
              "    </tr>\n",
              "  </tbody>\n",
              "</table>\n",
              "</div>\n",
              "    <div class=\"colab-df-buttons\">\n",
              "\n",
              "  <div class=\"colab-df-container\">\n",
              "    <button class=\"colab-df-convert\" onclick=\"convertToInteractive('df-f46936d6-f124-4436-be9d-f487b8fa7103')\"\n",
              "            title=\"Convert this dataframe to an interactive table.\"\n",
              "            style=\"display:none;\">\n",
              "\n",
              "  <svg xmlns=\"http://www.w3.org/2000/svg\" height=\"24px\" viewBox=\"0 -960 960 960\">\n",
              "    <path d=\"M120-120v-720h720v720H120Zm60-500h600v-160H180v160Zm220 220h160v-160H400v160Zm0 220h160v-160H400v160ZM180-400h160v-160H180v160Zm440 0h160v-160H620v160ZM180-180h160v-160H180v160Zm440 0h160v-160H620v160Z\"/>\n",
              "  </svg>\n",
              "    </button>\n",
              "\n",
              "  <style>\n",
              "    .colab-df-container {\n",
              "      display:flex;\n",
              "      gap: 12px;\n",
              "    }\n",
              "\n",
              "    .colab-df-convert {\n",
              "      background-color: #E8F0FE;\n",
              "      border: none;\n",
              "      border-radius: 50%;\n",
              "      cursor: pointer;\n",
              "      display: none;\n",
              "      fill: #1967D2;\n",
              "      height: 32px;\n",
              "      padding: 0 0 0 0;\n",
              "      width: 32px;\n",
              "    }\n",
              "\n",
              "    .colab-df-convert:hover {\n",
              "      background-color: #E2EBFA;\n",
              "      box-shadow: 0px 1px 2px rgba(60, 64, 67, 0.3), 0px 1px 3px 1px rgba(60, 64, 67, 0.15);\n",
              "      fill: #174EA6;\n",
              "    }\n",
              "\n",
              "    .colab-df-buttons div {\n",
              "      margin-bottom: 4px;\n",
              "    }\n",
              "\n",
              "    [theme=dark] .colab-df-convert {\n",
              "      background-color: #3B4455;\n",
              "      fill: #D2E3FC;\n",
              "    }\n",
              "\n",
              "    [theme=dark] .colab-df-convert:hover {\n",
              "      background-color: #434B5C;\n",
              "      box-shadow: 0px 1px 3px 1px rgba(0, 0, 0, 0.15);\n",
              "      filter: drop-shadow(0px 1px 2px rgba(0, 0, 0, 0.3));\n",
              "      fill: #FFFFFF;\n",
              "    }\n",
              "  </style>\n",
              "\n",
              "    <script>\n",
              "      const buttonEl =\n",
              "        document.querySelector('#df-f46936d6-f124-4436-be9d-f487b8fa7103 button.colab-df-convert');\n",
              "      buttonEl.style.display =\n",
              "        google.colab.kernel.accessAllowed ? 'block' : 'none';\n",
              "\n",
              "      async function convertToInteractive(key) {\n",
              "        const element = document.querySelector('#df-f46936d6-f124-4436-be9d-f487b8fa7103');\n",
              "        const dataTable =\n",
              "          await google.colab.kernel.invokeFunction('convertToInteractive',\n",
              "                                                    [key], {});\n",
              "        if (!dataTable) return;\n",
              "\n",
              "        const docLinkHtml = 'Like what you see? Visit the ' +\n",
              "          '<a target=\"_blank\" href=https://colab.research.google.com/notebooks/data_table.ipynb>data table notebook</a>'\n",
              "          + ' to learn more about interactive tables.';\n",
              "        element.innerHTML = '';\n",
              "        dataTable['output_type'] = 'display_data';\n",
              "        await google.colab.output.renderOutput(dataTable, element);\n",
              "        const docLink = document.createElement('div');\n",
              "        docLink.innerHTML = docLinkHtml;\n",
              "        element.appendChild(docLink);\n",
              "      }\n",
              "    </script>\n",
              "  </div>\n",
              "\n",
              "\n",
              "<div id=\"df-e1559ccc-ccbb-48c1-bb29-ae88993ea9fb\">\n",
              "  <button class=\"colab-df-quickchart\" onclick=\"quickchart('df-e1559ccc-ccbb-48c1-bb29-ae88993ea9fb')\"\n",
              "            title=\"Suggest charts\"\n",
              "            style=\"display:none;\">\n",
              "\n",
              "<svg xmlns=\"http://www.w3.org/2000/svg\" height=\"24px\"viewBox=\"0 0 24 24\"\n",
              "     width=\"24px\">\n",
              "    <g>\n",
              "        <path d=\"M19 3H5c-1.1 0-2 .9-2 2v14c0 1.1.9 2 2 2h14c1.1 0 2-.9 2-2V5c0-1.1-.9-2-2-2zM9 17H7v-7h2v7zm4 0h-2V7h2v10zm4 0h-2v-4h2v4z\"/>\n",
              "    </g>\n",
              "</svg>\n",
              "  </button>\n",
              "\n",
              "<style>\n",
              "  .colab-df-quickchart {\n",
              "      --bg-color: #E8F0FE;\n",
              "      --fill-color: #1967D2;\n",
              "      --hover-bg-color: #E2EBFA;\n",
              "      --hover-fill-color: #174EA6;\n",
              "      --disabled-fill-color: #AAA;\n",
              "      --disabled-bg-color: #DDD;\n",
              "  }\n",
              "\n",
              "  [theme=dark] .colab-df-quickchart {\n",
              "      --bg-color: #3B4455;\n",
              "      --fill-color: #D2E3FC;\n",
              "      --hover-bg-color: #434B5C;\n",
              "      --hover-fill-color: #FFFFFF;\n",
              "      --disabled-bg-color: #3B4455;\n",
              "      --disabled-fill-color: #666;\n",
              "  }\n",
              "\n",
              "  .colab-df-quickchart {\n",
              "    background-color: var(--bg-color);\n",
              "    border: none;\n",
              "    border-radius: 50%;\n",
              "    cursor: pointer;\n",
              "    display: none;\n",
              "    fill: var(--fill-color);\n",
              "    height: 32px;\n",
              "    padding: 0;\n",
              "    width: 32px;\n",
              "  }\n",
              "\n",
              "  .colab-df-quickchart:hover {\n",
              "    background-color: var(--hover-bg-color);\n",
              "    box-shadow: 0 1px 2px rgba(60, 64, 67, 0.3), 0 1px 3px 1px rgba(60, 64, 67, 0.15);\n",
              "    fill: var(--button-hover-fill-color);\n",
              "  }\n",
              "\n",
              "  .colab-df-quickchart-complete:disabled,\n",
              "  .colab-df-quickchart-complete:disabled:hover {\n",
              "    background-color: var(--disabled-bg-color);\n",
              "    fill: var(--disabled-fill-color);\n",
              "    box-shadow: none;\n",
              "  }\n",
              "\n",
              "  .colab-df-spinner {\n",
              "    border: 2px solid var(--fill-color);\n",
              "    border-color: transparent;\n",
              "    border-bottom-color: var(--fill-color);\n",
              "    animation:\n",
              "      spin 1s steps(1) infinite;\n",
              "  }\n",
              "\n",
              "  @keyframes spin {\n",
              "    0% {\n",
              "      border-color: transparent;\n",
              "      border-bottom-color: var(--fill-color);\n",
              "      border-left-color: var(--fill-color);\n",
              "    }\n",
              "    20% {\n",
              "      border-color: transparent;\n",
              "      border-left-color: var(--fill-color);\n",
              "      border-top-color: var(--fill-color);\n",
              "    }\n",
              "    30% {\n",
              "      border-color: transparent;\n",
              "      border-left-color: var(--fill-color);\n",
              "      border-top-color: var(--fill-color);\n",
              "      border-right-color: var(--fill-color);\n",
              "    }\n",
              "    40% {\n",
              "      border-color: transparent;\n",
              "      border-right-color: var(--fill-color);\n",
              "      border-top-color: var(--fill-color);\n",
              "    }\n",
              "    60% {\n",
              "      border-color: transparent;\n",
              "      border-right-color: var(--fill-color);\n",
              "    }\n",
              "    80% {\n",
              "      border-color: transparent;\n",
              "      border-right-color: var(--fill-color);\n",
              "      border-bottom-color: var(--fill-color);\n",
              "    }\n",
              "    90% {\n",
              "      border-color: transparent;\n",
              "      border-bottom-color: var(--fill-color);\n",
              "    }\n",
              "  }\n",
              "</style>\n",
              "\n",
              "  <script>\n",
              "    async function quickchart(key) {\n",
              "      const quickchartButtonEl =\n",
              "        document.querySelector('#' + key + ' button');\n",
              "      quickchartButtonEl.disabled = true;  // To prevent multiple clicks.\n",
              "      quickchartButtonEl.classList.add('colab-df-spinner');\n",
              "      try {\n",
              "        const charts = await google.colab.kernel.invokeFunction(\n",
              "            'suggestCharts', [key], {});\n",
              "      } catch (error) {\n",
              "        console.error('Error during call to suggestCharts:', error);\n",
              "      }\n",
              "      quickchartButtonEl.classList.remove('colab-df-spinner');\n",
              "      quickchartButtonEl.classList.add('colab-df-quickchart-complete');\n",
              "    }\n",
              "    (() => {\n",
              "      let quickchartButtonEl =\n",
              "        document.querySelector('#df-e1559ccc-ccbb-48c1-bb29-ae88993ea9fb button');\n",
              "      quickchartButtonEl.style.display =\n",
              "        google.colab.kernel.accessAllowed ? 'block' : 'none';\n",
              "    })();\n",
              "  </script>\n",
              "</div>\n",
              "\n",
              "    </div>\n",
              "  </div>\n"
            ],
            "application/vnd.google.colaboratory.intrinsic+json": {
              "type": "dataframe",
              "summary": "{\n  \"name\": \"aapl_data\",\n  \"rows\": 5,\n  \"fields\": [\n    {\n      \"column\": \"Date\",\n      \"properties\": {\n        \"dtype\": \"date\",\n        \"min\": \"2024-04-23 00:00:00\",\n        \"max\": \"2024-04-29 00:00:00\",\n        \"num_unique_values\": 5,\n        \"samples\": [\n          \"2024-04-24 00:00:00\",\n          \"2024-04-29 00:00:00\",\n          \"2024-04-25 00:00:00\"\n        ],\n        \"semantic_type\": \"\",\n        \"description\": \"\"\n      }\n    },\n    {\n      \"column\": \"Open\",\n      \"properties\": {\n        \"dtype\": \"number\",\n        \"std\": 3.142629188236243,\n        \"min\": 165.35000610351562,\n        \"max\": 173.3699951171875,\n        \"num_unique_values\": 5,\n        \"samples\": [\n          166.5399932861328,\n          173.3699951171875,\n          169.52999877929688\n        ],\n        \"semantic_type\": \"\",\n        \"description\": \"\"\n      }\n    },\n    {\n      \"column\": \"High\",\n      \"properties\": {\n        \"dtype\": \"number\",\n        \"std\": 3.3155418395531737,\n        \"min\": 167.0500030517578,\n        \"max\": 176.02999877929688,\n        \"num_unique_values\": 5,\n        \"samples\": [\n          169.3000030517578,\n          176.02999877929688,\n          170.61000061035156\n        ],\n        \"semantic_type\": \"\",\n        \"description\": \"\"\n      }\n    },\n    {\n      \"column\": \"Low\",\n      \"properties\": {\n        \"dtype\": \"number\",\n        \"std\": 3.1475669932073593,\n        \"min\": 164.9199981689453,\n        \"max\": 173.10000610351562,\n        \"num_unique_values\": 5,\n        \"samples\": [\n          166.2100067138672,\n          173.10000610351562,\n          168.14999389648438\n        ],\n        \"semantic_type\": \"\",\n        \"description\": \"\"\n      }\n    },\n    {\n      \"column\": \"Close\",\n      \"properties\": {\n        \"dtype\": \"number\",\n        \"std\": 2.3945827229921726,\n        \"min\": 166.89999389648438,\n        \"max\": 173.5,\n        \"num_unique_values\": 5,\n        \"samples\": [\n          169.02000427246094,\n          173.5,\n          169.88999938964844\n        ],\n        \"semantic_type\": \"\",\n        \"description\": \"\"\n      }\n    },\n    {\n      \"column\": \"Adj Close\",\n      \"properties\": {\n        \"dtype\": \"number\",\n        \"std\": 2.3945827229921726,\n        \"min\": 166.89999389648438,\n        \"max\": 173.5,\n        \"num_unique_values\": 5,\n        \"samples\": [\n          169.02000427246094,\n          173.5,\n          169.88999938964844\n        ],\n        \"semantic_type\": \"\",\n        \"description\": \"\"\n      }\n    },\n    {\n      \"column\": \"Volume\",\n      \"properties\": {\n        \"dtype\": \"number\",\n        \"std\": 9145495,\n        \"min\": 44838400,\n        \"max\": 68169400,\n        \"num_unique_values\": 5,\n        \"samples\": [\n          48251800,\n          68169400,\n          50558300\n        ],\n        \"semantic_type\": \"\",\n        \"description\": \"\"\n      }\n    }\n  ]\n}"
            }
          },
          "metadata": {},
          "execution_count": 3
        }
      ]
    },
    {
      "cell_type": "code",
      "source": [
        "# Checking for missing values\n",
        "missingdata=aapl_data.isnull().sum()\n",
        "print(missingdata)\n",
        "\n",
        "# Filling missing values, if any\n",
        "aapl_data.fillna(method='ffill', inplace=True)"
      ],
      "metadata": {
        "id": "4AGK3SjU5XIF",
        "colab": {
          "base_uri": "https://localhost:8080/"
        },
        "outputId": "8ddc80fd-c431-451c-f5ac-93339bce72b0"
      },
      "execution_count": 4,
      "outputs": [
        {
          "output_type": "stream",
          "name": "stdout",
          "text": [
            "Open         0\n",
            "High         0\n",
            "Low          0\n",
            "Close        0\n",
            "Adj Close    0\n",
            "Volume       0\n",
            "dtype: int64\n"
          ]
        }
      ]
    },
    {
      "cell_type": "markdown",
      "source": [
        "# MinMax Normalization to scale data between 0 and 1 without losing information\n",
        "\n"
      ],
      "metadata": {
        "id": "S58hvdB-7-qF"
      }
    },
    {
      "cell_type": "code",
      "source": [
        "from sklearn.preprocessing import MinMaxScaler\n",
        "\n",
        "scaler = MinMaxScaler(feature_range=(0,1))\n",
        "aapl_data_scaled = scaler.fit_transform(aapl_data['Close'].values.reshape(-1,1))"
      ],
      "metadata": {
        "id": "Ybx8_w3j78jf"
      },
      "execution_count": 5,
      "outputs": []
    },
    {
      "cell_type": "markdown",
      "source": [
        "Creating Sequences\n",
        "LSTM models require input to be in a sequence format. We transform the data into sequences for the model to learn from.\n",
        "\n",
        "Defining Sequence Length: Choose a sequence length (like 60 days). This means, for every sample, the model will look at the last 60 days of data to make a prediction.\n"
      ],
      "metadata": {
        "id": "4CNyFpXQAO8D"
      }
    },
    {
      "cell_type": "code",
      "source": [
        "X = []\n",
        "y = []\n",
        "\n",
        "for i in range(60, len(aapl_data_scaled)):\n",
        "    X.append(aapl_data_scaled[i-60:i, 0])\n",
        "    y.append(aapl_data_scaled[i, 0])"
      ],
      "metadata": {
        "id": "1QD1NVS1ARAD"
      },
      "execution_count": 6,
      "outputs": []
    },
    {
      "cell_type": "markdown",
      "source": [
        "Train-Test Split\n",
        "# Split the data into training and testing sets to evaluate the model’s performance properly."
      ],
      "metadata": {
        "id": "_vaq-F-ZBsKg"
      }
    },
    {
      "cell_type": "code",
      "source": [
        "train_size = int(len(X) * 0.8)\n",
        "test_size = len(X) - train_size\n",
        "\n",
        "X_train, X_test = X[:train_size], X[train_size:]\n",
        "y_train, y_test = y[:train_size], y[train_size:]"
      ],
      "metadata": {
        "id": "VuCaMCNABuug"
      },
      "execution_count": 7,
      "outputs": []
    },
    {
      "cell_type": "markdown",
      "source": [
        "# Reshaping Data for LSTM\n"
      ],
      "metadata": {
        "id": "exK7Izf7HEd4"
      }
    },
    {
      "cell_type": "code",
      "source": [
        "X_train, y_train = np.array(X_train), np.array(y_train)\n",
        "X_train = np.reshape(X_train, (X_train.shape[0], X_train.shape[1], 1))"
      ],
      "metadata": {
        "id": "D7krCOP-HZWk"
      },
      "execution_count": 8,
      "outputs": []
    },
    {
      "cell_type": "markdown",
      "source": [
        "# Creating LSTM Layers"
      ],
      "metadata": {
        "id": "phtWQLFgHqNe"
      }
    },
    {
      "cell_type": "code",
      "source": [
        "from keras.models import Sequential\n",
        "from keras.layers import LSTM, Dense, Dropout, AdditiveAttention, Permute, Reshape, Multiply\n",
        "\n",
        "model = Sequential()\n",
        "\n",
        "# Adding LSTM layers with return_sequences=True\n",
        "model.add(LSTM(units=50, return_sequences=True, input_shape=(X_train.shape[1], 1)))\n",
        "model.add(LSTM(units=50, return_sequences=True))"
      ],
      "metadata": {
        "id": "6wfRjjtJHs1Q"
      },
      "execution_count": 9,
      "outputs": []
    },
    {
      "cell_type": "markdown",
      "source": [],
      "metadata": {
        "id": "2kpsdCf5KTdi"
      }
    },
    {
      "cell_type": "markdown",
      "source": [
        "# Integrating the Attention Mechanism:\n",
        "The attention mechanism can be added to enhance the model’s ability to focus on relevant time steps:"
      ],
      "metadata": {
        "id": "o0uOBuyQKZp4"
      }
    },
    {
      "cell_type": "code",
      "source": [
        "# Adding self-attention mechanism\n",
        "# The attention mechanism\n",
        "attention = AdditiveAttention(name='attention_weight')\n",
        "# Permute and reshape for compatibility\n",
        "model.add(Permute((2, 1)))\n",
        "model.add(Reshape((-1, X_train.shape[1])))\n",
        "attention_result = attention([model.output, model.output])\n",
        "multiply_layer = Multiply()([model.output, attention_result])\n",
        "# Return to original shape\n",
        "model.add(Permute((2, 1)))\n",
        "model.add(Reshape((-1, 50)))\n",
        "\n",
        "# Adding a Flatten layer before the final Dense layer\n",
        "model.add(tf.keras.layers.Flatten())\n",
        "\n",
        "# Final Dense layer\n",
        "model.add(Dense(1))\n",
        "\n",
        "# Compile the model\n",
        "# model.compile(optimizer='adam', loss='mean_squared_error')\n",
        "\n",
        "# Train the model\n",
        "# history = model.fit(X_train, y_train, epochs=100, batch_size=25, validation_split=0.2)"
      ],
      "metadata": {
        "id": "Ctn4UwleKr4m"
      },
      "execution_count": 10,
      "outputs": []
    },
    {
      "cell_type": "markdown",
      "source": [
        "# Optimizing the Model\n",
        " To enhance the model’s performance and reduce the risk of overfitting, we include Dropout and Batch Normalization."
      ],
      "metadata": {
        "id": "ozvR6TeIQu_7"
      }
    },
    {
      "cell_type": "code",
      "source": [
        "from keras.layers import BatchNormalization\n",
        "\n",
        "# Adding Dropout and Batch Normalization\n",
        "model.add(Dropout(0.2))\n",
        "model.add(BatchNormalization())"
      ],
      "metadata": {
        "id": "0Ok-mLbTN_kM"
      },
      "execution_count": 11,
      "outputs": []
    },
    {
      "cell_type": "markdown",
      "source": [
        "# Model Compilation\n",
        "Finally, we compile the model with an optimizer and loss function suited for our regression task."
      ],
      "metadata": {
        "id": "vMX1L1RuUx_i"
      }
    },
    {
      "cell_type": "code",
      "source": [
        "model.compile(optimizer='adam', loss='mean_squared_error')"
      ],
      "metadata": {
        "id": "LheR_nj-Votf"
      },
      "execution_count": 12,
      "outputs": []
    },
    {
      "cell_type": "markdown",
      "source": [
        "# Model Summary\n",
        "It’s beneficial to view the summary of the model to understand its structure and number of parameters."
      ],
      "metadata": {
        "id": "E8lMfd_8U-IU"
      }
    },
    {
      "cell_type": "code",
      "source": [
        "model.summary()"
      ],
      "metadata": {
        "colab": {
          "base_uri": "https://localhost:8080/"
        },
        "id": "O_tH5F9UU0mW",
        "outputId": "12719e0d-4394-4c39-c7a2-be3a767ea8c1"
      },
      "execution_count": 13,
      "outputs": [
        {
          "output_type": "stream",
          "name": "stdout",
          "text": [
            "Model: \"sequential\"\n",
            "_________________________________________________________________\n",
            " Layer (type)                Output Shape              Param #   \n",
            "=================================================================\n",
            " lstm (LSTM)                 (None, 60, 50)            10400     \n",
            "                                                                 \n",
            " lstm_1 (LSTM)               (None, 60, 50)            20200     \n",
            "                                                                 \n",
            " permute (Permute)           (None, 50, 60)            0         \n",
            "                                                                 \n",
            " reshape (Reshape)           (None, 50, 60)            0         \n",
            "                                                                 \n",
            " permute_1 (Permute)         (None, 60, 50)            0         \n",
            "                                                                 \n",
            " reshape_1 (Reshape)         (None, 60, 50)            0         \n",
            "                                                                 \n",
            " flatten (Flatten)           (None, 3000)              0         \n",
            "                                                                 \n",
            " dense (Dense)               (None, 1)                 3001      \n",
            "                                                                 \n",
            " dropout (Dropout)           (None, 1)                 0         \n",
            "                                                                 \n",
            " batch_normalization (Batch  (None, 1)                 4         \n",
            " Normalization)                                                  \n",
            "                                                                 \n",
            "=================================================================\n",
            "Total params: 33605 (131.27 KB)\n",
            "Trainable params: 33603 (131.26 KB)\n",
            "Non-trainable params: 2 (8.00 Byte)\n",
            "_________________________________________________________________\n"
          ]
        }
      ]
    },
    {
      "cell_type": "markdown",
      "source": [
        "#Training the Model\n",
        "Now that our LSTM model with attention is built, it’s time to train it using our prepared training set. This process involves feeding the training data to the model and letting it learn to make predictions."
      ],
      "metadata": {
        "id": "KdPVav09WKVN"
      }
    },
    {
      "cell_type": "code",
      "source": [
        "#WITHOUT EARLY STOPPING\n",
        "# Assuming X_train and y_train are already defined and preprocessed\n",
        "history = model.fit(X_train, y_train, epochs=100, batch_size=25, validation_split=0.2)"
      ],
      "metadata": {
        "colab": {
          "base_uri": "https://localhost:8080/"
        },
        "id": "e_FMGrEOWO0B",
        "outputId": "bc62c958-bab4-40c7-d3b9-14ccc6bcde59"
      },
      "execution_count": 14,
      "outputs": [
        {
          "output_type": "stream",
          "name": "stdout",
          "text": [
            "Epoch 1/100\n",
            "27/27 [==============================] - 8s 97ms/step - loss: 0.5649 - val_loss: 0.4603\n",
            "Epoch 2/100\n",
            "27/27 [==============================] - 2s 59ms/step - loss: 0.2786 - val_loss: 0.4371\n",
            "Epoch 3/100\n",
            "27/27 [==============================] - 2s 58ms/step - loss: 0.2549 - val_loss: 0.4100\n",
            "Epoch 4/100\n",
            "27/27 [==============================] - 2s 59ms/step - loss: 0.2247 - val_loss: 0.3787\n",
            "Epoch 5/100\n",
            "27/27 [==============================] - 2s 83ms/step - loss: 0.2034 - val_loss: 0.3451\n",
            "Epoch 6/100\n",
            "27/27 [==============================] - 2s 78ms/step - loss: 0.1838 - val_loss: 0.3140\n",
            "Epoch 7/100\n",
            "27/27 [==============================] - 2s 60ms/step - loss: 0.1650 - val_loss: 0.2858\n",
            "Epoch 8/100\n",
            "27/27 [==============================] - 2s 59ms/step - loss: 0.1459 - val_loss: 0.2564\n",
            "Epoch 9/100\n",
            "27/27 [==============================] - 2s 58ms/step - loss: 0.1331 - val_loss: 0.2328\n",
            "Epoch 10/100\n",
            "27/27 [==============================] - 2s 60ms/step - loss: 0.1165 - val_loss: 0.2196\n",
            "Epoch 11/100\n",
            "27/27 [==============================] - 2s 57ms/step - loss: 0.1052 - val_loss: 0.1992\n",
            "Epoch 12/100\n",
            "27/27 [==============================] - 2s 64ms/step - loss: 0.0947 - val_loss: 0.1686\n",
            "Epoch 13/100\n",
            "27/27 [==============================] - 2s 92ms/step - loss: 0.0830 - val_loss: 0.1685\n",
            "Epoch 14/100\n",
            "27/27 [==============================] - 2s 58ms/step - loss: 0.0725 - val_loss: 0.1573\n",
            "Epoch 15/100\n",
            "27/27 [==============================] - 2s 56ms/step - loss: 0.0659 - val_loss: 0.1277\n",
            "Epoch 16/100\n",
            "27/27 [==============================] - 2s 57ms/step - loss: 0.0581 - val_loss: 0.1167\n",
            "Epoch 17/100\n",
            "27/27 [==============================] - 2s 57ms/step - loss: 0.0520 - val_loss: 0.1082\n",
            "Epoch 18/100\n",
            "27/27 [==============================] - 2s 68ms/step - loss: 0.0462 - val_loss: 0.0979\n",
            "Epoch 19/100\n",
            "27/27 [==============================] - 3s 96ms/step - loss: 0.0392 - val_loss: 0.0759\n",
            "Epoch 20/100\n",
            "27/27 [==============================] - 3s 102ms/step - loss: 0.0349 - val_loss: 0.0874\n",
            "Epoch 21/100\n",
            "27/27 [==============================] - 2s 56ms/step - loss: 0.0310 - val_loss: 0.0438\n",
            "Epoch 22/100\n",
            "27/27 [==============================] - 2s 58ms/step - loss: 0.0272 - val_loss: 0.0569\n",
            "Epoch 23/100\n",
            "27/27 [==============================] - 2s 58ms/step - loss: 0.0232 - val_loss: 0.0510\n",
            "Epoch 24/100\n",
            "27/27 [==============================] - 2s 59ms/step - loss: 0.0214 - val_loss: 0.0437\n",
            "Epoch 25/100\n",
            "27/27 [==============================] - 2s 79ms/step - loss: 0.0198 - val_loss: 0.0310\n",
            "Epoch 26/100\n",
            "27/27 [==============================] - 2s 55ms/step - loss: 0.0182 - val_loss: 0.0279\n",
            "Epoch 27/100\n",
            "27/27 [==============================] - 3s 96ms/step - loss: 0.0173 - val_loss: 0.0180\n",
            "Epoch 28/100\n",
            "27/27 [==============================] - 2s 61ms/step - loss: 0.0154 - val_loss: 0.0112\n",
            "Epoch 29/100\n",
            "27/27 [==============================] - 2s 58ms/step - loss: 0.0135 - val_loss: 0.0060\n",
            "Epoch 30/100\n",
            "27/27 [==============================] - 2s 58ms/step - loss: 0.0136 - val_loss: 0.0037\n",
            "Epoch 31/100\n",
            "27/27 [==============================] - 2s 62ms/step - loss: 0.0134 - val_loss: 0.0069\n",
            "Epoch 32/100\n",
            "27/27 [==============================] - 2s 57ms/step - loss: 0.0124 - val_loss: 0.0073\n",
            "Epoch 33/100\n",
            "27/27 [==============================] - 2s 57ms/step - loss: 0.0127 - val_loss: 0.0160\n",
            "Epoch 34/100\n",
            "27/27 [==============================] - 2s 72ms/step - loss: 0.0112 - val_loss: 0.0118\n",
            "Epoch 35/100\n",
            "27/27 [==============================] - 2s 87ms/step - loss: 0.0118 - val_loss: 0.0105\n",
            "Epoch 36/100\n",
            "27/27 [==============================] - 2s 63ms/step - loss: 0.0127 - val_loss: 0.0104\n",
            "Epoch 37/100\n",
            "27/27 [==============================] - 2s 57ms/step - loss: 0.0109 - val_loss: 0.0129\n",
            "Epoch 38/100\n",
            "27/27 [==============================] - 2s 58ms/step - loss: 0.0118 - val_loss: 0.0021\n",
            "Epoch 39/100\n",
            "27/27 [==============================] - 2s 60ms/step - loss: 0.0087 - val_loss: 0.0032\n",
            "Epoch 40/100\n",
            "27/27 [==============================] - 2s 61ms/step - loss: 0.0126 - val_loss: 0.0036\n",
            "Epoch 41/100\n",
            "27/27 [==============================] - 2s 67ms/step - loss: 0.0098 - val_loss: 0.0024\n",
            "Epoch 42/100\n",
            "27/27 [==============================] - 3s 98ms/step - loss: 0.0110 - val_loss: 0.0019\n",
            "Epoch 43/100\n",
            "27/27 [==============================] - 2s 57ms/step - loss: 0.0104 - val_loss: 0.0020\n",
            "Epoch 44/100\n",
            "27/27 [==============================] - 2s 57ms/step - loss: 0.0114 - val_loss: 0.0180\n",
            "Epoch 45/100\n",
            "27/27 [==============================] - 2s 63ms/step - loss: 0.0093 - val_loss: 0.0092\n",
            "Epoch 46/100\n",
            "27/27 [==============================] - 2s 57ms/step - loss: 0.0107 - val_loss: 0.0020\n",
            "Epoch 47/100\n",
            "27/27 [==============================] - 2s 58ms/step - loss: 0.0086 - val_loss: 0.0043\n",
            "Epoch 48/100\n",
            "27/27 [==============================] - 2s 58ms/step - loss: 0.0100 - val_loss: 0.0109\n",
            "Epoch 49/100\n",
            "27/27 [==============================] - 2s 81ms/step - loss: 0.0096 - val_loss: 0.0050\n",
            "Epoch 50/100\n",
            "27/27 [==============================] - 2s 73ms/step - loss: 0.0108 - val_loss: 0.0340\n",
            "Epoch 51/100\n",
            "27/27 [==============================] - 2s 58ms/step - loss: 0.0117 - val_loss: 0.0018\n",
            "Epoch 52/100\n",
            "27/27 [==============================] - 2s 58ms/step - loss: 0.0100 - val_loss: 0.0031\n",
            "Epoch 53/100\n",
            "27/27 [==============================] - 2s 78ms/step - loss: 0.0083 - val_loss: 0.0018\n",
            "Epoch 54/100\n",
            "27/27 [==============================] - 2s 60ms/step - loss: 0.0099 - val_loss: 0.0043\n",
            "Epoch 55/100\n",
            "27/27 [==============================] - 2s 59ms/step - loss: 0.0111 - val_loss: 0.0026\n",
            "Epoch 56/100\n",
            "27/27 [==============================] - 2s 83ms/step - loss: 0.0091 - val_loss: 0.0014\n",
            "Epoch 57/100\n",
            "27/27 [==============================] - 2s 81ms/step - loss: 0.0102 - val_loss: 0.0035\n",
            "Epoch 58/100\n",
            "27/27 [==============================] - 2s 59ms/step - loss: 0.0086 - val_loss: 0.0016\n",
            "Epoch 59/100\n",
            "27/27 [==============================] - 2s 59ms/step - loss: 0.0081 - val_loss: 0.0073\n",
            "Epoch 60/100\n",
            "27/27 [==============================] - 2s 58ms/step - loss: 0.0120 - val_loss: 0.0073\n",
            "Epoch 61/100\n",
            "27/27 [==============================] - 2s 61ms/step - loss: 0.0078 - val_loss: 0.0086\n",
            "Epoch 62/100\n",
            "27/27 [==============================] - 2s 59ms/step - loss: 0.0112 - val_loss: 0.0518\n",
            "Epoch 63/100\n",
            "27/27 [==============================] - 2s 71ms/step - loss: 0.0108 - val_loss: 0.0031\n",
            "Epoch 64/100\n",
            "27/27 [==============================] - 2s 92ms/step - loss: 0.0113 - val_loss: 0.0021\n",
            "Epoch 65/100\n",
            "27/27 [==============================] - 2s 61ms/step - loss: 0.0075 - val_loss: 0.0044\n",
            "Epoch 66/100\n",
            "27/27 [==============================] - 2s 60ms/step - loss: 0.0101 - val_loss: 0.0116\n",
            "Epoch 67/100\n",
            "27/27 [==============================] - 2s 58ms/step - loss: 0.0107 - val_loss: 0.0113\n",
            "Epoch 68/100\n",
            "27/27 [==============================] - 2s 63ms/step - loss: 0.0080 - val_loss: 0.0053\n",
            "Epoch 69/100\n",
            "27/27 [==============================] - 2s 61ms/step - loss: 0.0089 - val_loss: 0.0040\n",
            "Epoch 70/100\n",
            "27/27 [==============================] - 2s 59ms/step - loss: 0.0105 - val_loss: 0.0021\n",
            "Epoch 71/100\n",
            "27/27 [==============================] - 3s 98ms/step - loss: 0.0102 - val_loss: 0.0235\n",
            "Epoch 72/100\n",
            "27/27 [==============================] - 2s 63ms/step - loss: 0.0102 - val_loss: 0.0019\n",
            "Epoch 73/100\n",
            "27/27 [==============================] - 2s 60ms/step - loss: 0.0084 - val_loss: 0.0054\n",
            "Epoch 74/100\n",
            "27/27 [==============================] - 2s 59ms/step - loss: 0.0109 - val_loss: 0.0018\n",
            "Epoch 75/100\n",
            "27/27 [==============================] - 2s 61ms/step - loss: 0.0115 - val_loss: 0.0113\n",
            "Epoch 76/100\n",
            "27/27 [==============================] - 2s 57ms/step - loss: 0.0101 - val_loss: 0.0017\n",
            "Epoch 77/100\n",
            "27/27 [==============================] - 2s 57ms/step - loss: 0.0102 - val_loss: 0.0014\n",
            "Epoch 78/100\n",
            "27/27 [==============================] - 2s 90ms/step - loss: 0.0074 - val_loss: 0.0128\n",
            "Epoch 79/100\n",
            "27/27 [==============================] - 2s 77ms/step - loss: 0.0058 - val_loss: 0.0015\n",
            "Epoch 80/100\n",
            "27/27 [==============================] - 2s 60ms/step - loss: 0.0105 - val_loss: 0.0027\n",
            "Epoch 81/100\n",
            "27/27 [==============================] - 2s 69ms/step - loss: 0.0085 - val_loss: 0.0016\n",
            "Epoch 82/100\n",
            "27/27 [==============================] - 2s 62ms/step - loss: 0.0088 - val_loss: 0.0017\n",
            "Epoch 83/100\n",
            "27/27 [==============================] - 2s 58ms/step - loss: 0.0093 - val_loss: 0.0022\n",
            "Epoch 84/100\n",
            "27/27 [==============================] - 2s 80ms/step - loss: 0.0087 - val_loss: 0.0030\n",
            "Epoch 85/100\n",
            "27/27 [==============================] - 3s 114ms/step - loss: 0.0097 - val_loss: 0.0339\n",
            "Epoch 86/100\n",
            "27/27 [==============================] - 2s 76ms/step - loss: 0.0146 - val_loss: 0.0039\n",
            "Epoch 87/100\n",
            "27/27 [==============================] - 2s 63ms/step - loss: 0.0106 - val_loss: 0.0019\n",
            "Epoch 88/100\n",
            "27/27 [==============================] - 2s 62ms/step - loss: 0.0096 - val_loss: 0.0025\n",
            "Epoch 89/100\n",
            "27/27 [==============================] - 2s 59ms/step - loss: 0.0084 - val_loss: 0.0058\n",
            "Epoch 90/100\n",
            "27/27 [==============================] - 2s 58ms/step - loss: 0.0100 - val_loss: 0.0070\n",
            "Epoch 91/100\n",
            "27/27 [==============================] - 2s 61ms/step - loss: 0.0094 - val_loss: 0.0027\n",
            "Epoch 92/100\n",
            "27/27 [==============================] - 2s 84ms/step - loss: 0.0070 - val_loss: 0.0023\n",
            "Epoch 93/100\n",
            "27/27 [==============================] - 2s 81ms/step - loss: 0.0085 - val_loss: 0.0015\n",
            "Epoch 94/100\n",
            "27/27 [==============================] - 2s 61ms/step - loss: 0.0094 - val_loss: 0.0044\n",
            "Epoch 95/100\n",
            "27/27 [==============================] - 2s 59ms/step - loss: 0.0103 - val_loss: 0.0031\n",
            "Epoch 96/100\n",
            "27/27 [==============================] - 2s 58ms/step - loss: 0.0096 - val_loss: 0.0015\n",
            "Epoch 97/100\n",
            "27/27 [==============================] - 2s 60ms/step - loss: 0.0083 - val_loss: 0.0026\n",
            "Epoch 98/100\n",
            "27/27 [==============================] - 2s 58ms/step - loss: 0.0095 - val_loss: 0.0017\n",
            "Epoch 99/100\n",
            "27/27 [==============================] - 2s 68ms/step - loss: 0.0088 - val_loss: 0.0023\n",
            "Epoch 100/100\n",
            "27/27 [==============================] - 3s 93ms/step - loss: 0.0087 - val_loss: 0.0076\n"
          ]
        }
      ]
    },
    {
      "cell_type": "code",
      "source": [
        "#WITH EARLYSTOPPING\n",
        "from keras.callbacks import EarlyStopping\n",
        "\n",
        "early_stopping = EarlyStopping(monitor='val_loss', patience=10)\n",
        "history = model.fit(X_train, y_train, epochs=100, batch_size=25, validation_split=0.2, callbacks=[early_stopping])"
      ],
      "metadata": {
        "colab": {
          "base_uri": "https://localhost:8080/"
        },
        "id": "VlR4nMv_Y2VM",
        "outputId": "1ed3b41a-dc60-4104-bc73-132d0ec5d742"
      },
      "execution_count": 15,
      "outputs": [
        {
          "output_type": "stream",
          "name": "stdout",
          "text": [
            "Epoch 1/100\n",
            "27/27 [==============================] - 2s 84ms/step - loss: 0.0096 - val_loss: 0.0056\n",
            "Epoch 2/100\n",
            "27/27 [==============================] - 2s 79ms/step - loss: 0.0096 - val_loss: 0.0078\n",
            "Epoch 3/100\n",
            "27/27 [==============================] - 2s 58ms/step - loss: 0.0108 - val_loss: 0.0034\n",
            "Epoch 4/100\n",
            "27/27 [==============================] - 2s 57ms/step - loss: 0.0101 - val_loss: 0.0014\n",
            "Epoch 5/100\n",
            "27/27 [==============================] - 2s 59ms/step - loss: 0.0102 - val_loss: 0.0017\n",
            "Epoch 6/100\n",
            "27/27 [==============================] - 2s 58ms/step - loss: 0.0086 - val_loss: 0.0029\n",
            "Epoch 7/100\n",
            "27/27 [==============================] - 2s 60ms/step - loss: 0.0102 - val_loss: 0.0013\n",
            "Epoch 8/100\n",
            "27/27 [==============================] - 2s 69ms/step - loss: 0.0098 - val_loss: 0.0070\n",
            "Epoch 9/100\n",
            "27/27 [==============================] - 2s 87ms/step - loss: 0.0115 - val_loss: 0.0060\n",
            "Epoch 10/100\n",
            "27/27 [==============================] - 2s 56ms/step - loss: 0.0092 - val_loss: 0.0014\n",
            "Epoch 11/100\n",
            "27/27 [==============================] - 2s 56ms/step - loss: 0.0078 - val_loss: 0.0018\n",
            "Epoch 12/100\n",
            "27/27 [==============================] - 2s 57ms/step - loss: 0.0110 - val_loss: 0.0152\n",
            "Epoch 13/100\n",
            "27/27 [==============================] - 2s 61ms/step - loss: 0.0102 - val_loss: 0.0135\n",
            "Epoch 14/100\n",
            "27/27 [==============================] - 2s 57ms/step - loss: 0.0080 - val_loss: 0.0017\n",
            "Epoch 15/100\n",
            "27/27 [==============================] - 2s 60ms/step - loss: 0.0083 - val_loss: 0.0028\n",
            "Epoch 16/100\n",
            "27/27 [==============================] - 3s 95ms/step - loss: 0.0119 - val_loss: 0.0048\n",
            "Epoch 17/100\n",
            "27/27 [==============================] - 2s 72ms/step - loss: 0.0099 - val_loss: 0.0021\n"
          ]
        }
      ]
    },
    {
      "cell_type": "code",
      "source": [
        "#WITH RESTORE BEST WEIGHTS\n",
        "early_stopping = EarlyStopping(\n",
        "    monitor='val_loss',\n",
        "    min_delta=0.001, # minimium amount of change to count as an improvement\n",
        "    patience=10, # how many epochs to wait before stopping\n",
        "    restore_best_weights=True,\n",
        ")\n",
        "history = model.fit(X_train, y_train, epochs=100, batch_size=25, validation_split=0.2, callbacks=[early_stopping])"
      ],
      "metadata": {
        "colab": {
          "base_uri": "https://localhost:8080/"
        },
        "id": "u7MkAFl2aSc-",
        "outputId": "4225eac1-6d77-4efc-f6c7-bff8b1b0e4e3"
      },
      "execution_count": 16,
      "outputs": [
        {
          "output_type": "stream",
          "name": "stdout",
          "text": [
            "Epoch 1/100\n",
            "27/27 [==============================] - 2s 76ms/step - loss: 0.0095 - val_loss: 0.0039\n",
            "Epoch 2/100\n",
            "27/27 [==============================] - 2s 57ms/step - loss: 0.0115 - val_loss: 0.0092\n",
            "Epoch 3/100\n",
            "27/27 [==============================] - 2s 56ms/step - loss: 0.0112 - val_loss: 0.0023\n",
            "Epoch 4/100\n",
            "27/27 [==============================] - 2s 58ms/step - loss: 0.0084 - val_loss: 0.0085\n",
            "Epoch 5/100\n",
            "27/27 [==============================] - 2s 63ms/step - loss: 0.0085 - val_loss: 0.0033\n",
            "Epoch 6/100\n",
            "27/27 [==============================] - 2s 62ms/step - loss: 0.0082 - val_loss: 0.0014\n",
            "Epoch 7/100\n",
            "27/27 [==============================] - 3s 93ms/step - loss: 0.0092 - val_loss: 0.0024\n",
            "Epoch 8/100\n",
            "27/27 [==============================] - 2s 60ms/step - loss: 0.0081 - val_loss: 0.0061\n",
            "Epoch 9/100\n",
            "27/27 [==============================] - 2s 57ms/step - loss: 0.0091 - val_loss: 0.0018\n",
            "Epoch 10/100\n",
            "27/27 [==============================] - 2s 57ms/step - loss: 0.0096 - val_loss: 0.0018\n",
            "Epoch 11/100\n",
            "27/27 [==============================] - 2s 56ms/step - loss: 0.0106 - val_loss: 0.0026\n",
            "Epoch 12/100\n",
            "27/27 [==============================] - 2s 58ms/step - loss: 0.0101 - val_loss: 0.0021\n",
            "Epoch 13/100\n",
            "27/27 [==============================] - 2s 58ms/step - loss: 0.0106 - val_loss: 0.0023\n"
          ]
        }
      ]
    },
    {
      "cell_type": "markdown",
      "source": [
        "# Evaluating with the Test Set\n",
        "To evaluate the model, we first need to prepare our test data (X_test) in the same way we did for the training data. Then, we can use the model's evaluate function:"
      ],
      "metadata": {
        "id": "MlP6A5WvQ_O0"
      }
    },
    {
      "cell_type": "code",
      "source": [
        "# Convert X_test and y_test to Numpy arrays if they are not already\n",
        "X_test = np.array(X_test)\n",
        "y_test = np.array(y_test)\n",
        "\n",
        "# Ensure X_test is reshaped similarly to how X_train was reshaped\n",
        "# This depends on how you preprocessed the training data\n",
        "X_test = np.reshape(X_test, (X_test.shape[0], X_test.shape[1], 1))\n",
        "\n",
        "# Now evaluate the model on the test data\n",
        "test_loss = model.evaluate(X_test, y_test)\n",
        "print(\"Test Loss: \", test_loss)"
      ],
      "metadata": {
        "colab": {
          "base_uri": "https://localhost:8080/"
        },
        "id": "Io2sElgURDAV",
        "outputId": "fd42051d-48ae-4a69-b2ca-b409b837b592"
      },
      "execution_count": 19,
      "outputs": [
        {
          "output_type": "stream",
          "name": "stdout",
          "text": [
            "7/7 [==============================] - 0s 17ms/step - loss: 7.0997e-04\n",
            "Test Loss:  0.0007099743816070259\n"
          ]
        }
      ]
    },
    {
      "cell_type": "markdown",
      "source": [
        "# Performance Metrics\n",
        "In addition to the loss, other metrics can provide more insights into the model’s performance. For regression tasks like ours, common metrics include:\n",
        "\n",
        "Mean Absolute Error (MAE): This measures the average magnitude of the errors in a set of predictions, without considering their direction.\n",
        "Root Mean Square Error (RMSE): This is the square root of the average of squared differences between prediction and actual observation."
      ],
      "metadata": {
        "id": "4ouAmJzNTl1R"
      }
    },
    {
      "cell_type": "code",
      "source": [
        "from sklearn.metrics import mean_absolute_error, mean_squared_error\n",
        "\n",
        "# Making predictions\n",
        "y_pred = model.predict(X_test)\n",
        "\n",
        "# Calculating MAE and RMSE\n",
        "mae = mean_absolute_error(y_test, y_pred)\n",
        "rmse = mean_squared_error(y_test, y_pred, squared=False)\n",
        "\n",
        "print(\"Mean Absolute Error: \", mae)\n",
        "print(\"Root Mean Square Error: \", rmse)\n"
      ],
      "metadata": {
        "colab": {
          "base_uri": "https://localhost:8080/"
        },
        "id": "Dwn_l4Y5TswO",
        "outputId": "c6894a43-5fc5-4a2b-f3e0-067bbd3aef7e"
      },
      "execution_count": 20,
      "outputs": [
        {
          "output_type": "stream",
          "name": "stdout",
          "text": [
            "7/7 [==============================] - 2s 27ms/step\n",
            "Mean Absolute Error:  0.02163065206825306\n",
            "Root Mean Square Error:  0.026645342799252045\n"
          ]
        }
      ]
    },
    {
      "cell_type": "markdown",
      "source": [
        "# Making Predictions\n",
        " To predict future stock prices, we need to provide the model with the most recent data points. Let’s assume we have the latest 60 days of data prepared in the same format as X_train: and we want to predict the price for the next day:"
      ],
      "metadata": {
        "id": "IUMv0cJIVt7z"
      }
    },
    {
      "cell_type": "code",
      "source": [
        "import yfinance as yf\n",
        "import numpy as np\n",
        "from sklearn.preprocessing import MinMaxScaler\n",
        "\n",
        "# Fetching the latest 60 days of AAPL stock data\n",
        "data = yf.download('AAPL', period='60d', interval='1d')\n",
        "\n",
        "# Selecting the 'Close' price and converting to numpy array\n",
        "closing_prices = data['Close'].values\n",
        "\n",
        "# Scaling the data\n",
        "scaler = MinMaxScaler(feature_range=(0,1))\n",
        "scaled_data = scaler.fit_transform(closing_prices.reshape(-1,1))\n",
        "\n",
        "# Since we need the last 60 days to predict the next day, we reshape the data accordingly\n",
        "X_latest = np.array([scaled_data[-60:].reshape(60)])\n",
        "\n",
        "# Reshaping the data for the model (adding batch dimension)\n",
        "X_latest = np.reshape(X_latest, (X_latest.shape[0], X_latest.shape[1], 1))\n",
        "\n",
        "# Making predictions for the next 4 candles\n",
        "predicted_stock_price = model.predict(X_latest)\n",
        "predicted_stock_price = scaler.inverse_transform(predicted_stock_price)\n",
        "\n",
        "print(\"Predicted Stock Prices for the next 4 days: \", predicted_stock_price)"
      ],
      "metadata": {
        "colab": {
          "base_uri": "https://localhost:8080/"
        },
        "id": "QfZ3q22VVy9p",
        "outputId": "27fe8f50-028c-46c0-b41d-ca46320c4fb5"
      },
      "execution_count": 21,
      "outputs": [
        {
          "output_type": "stream",
          "name": "stderr",
          "text": [
            "\r[*********************100%%**********************]  1 of 1 completed"
          ]
        },
        {
          "output_type": "stream",
          "name": "stdout",
          "text": [
            "1/1 [==============================] - 0s 49ms/step\n",
            "Predicted Stock Prices for the next 4 days:  [[177.60266]]\n"
          ]
        },
        {
          "output_type": "stream",
          "name": "stderr",
          "text": [
            "\n"
          ]
        }
      ]
    },
    {
      "cell_type": "markdown",
      "source": [
        "# Let’s predict the price for the next 4 days:"
      ],
      "metadata": {
        "id": "pkXly-SQc7El"
      }
    },
    {
      "cell_type": "code",
      "source": [
        "import yfinance as yf\n",
        "import numpy as np\n",
        "from sklearn.preprocessing import MinMaxScaler\n",
        "\n",
        "# Fetch the latest 60 days of AAPL stock data\n",
        "data = yf.download('AAPL', period='60d', interval='1d')\n",
        "\n",
        "# Select 'Close' price and scale it\n",
        "closing_prices = data['Close'].values.reshape(-1, 1)\n",
        "scaler = MinMaxScaler(feature_range=(0, 1))\n",
        "scaled_data = scaler.fit_transform(closing_prices)\n",
        "\n",
        "# Predict the next 4 days iteratively\n",
        "predicted_prices = []\n",
        "current_batch = scaled_data[-60:].reshape(1, 60, 1)  # Most recent 60 days\n",
        "\n",
        "for i in range(4):  # Predicting 4 days\n",
        "    # Get the prediction (next day)\n",
        "    next_prediction = model.predict(current_batch)\n",
        "\n",
        "    # Reshape the prediction to fit the batch dimension\n",
        "    next_prediction_reshaped = next_prediction.reshape(1, 1, 1)\n",
        "\n",
        "    # Append the prediction to the batch used for predicting\n",
        "    current_batch = np.append(current_batch[:, 1:, :], next_prediction_reshaped, axis=1)\n",
        "\n",
        "    # Inverse transform the prediction to the original price scale\n",
        "    predicted_prices.append(scaler.inverse_transform(next_prediction)[0, 0])\n",
        "\n",
        "print(\"Predicted Stock Prices for the next 4 days: \", predicted_prices)"
      ],
      "metadata": {
        "colab": {
          "base_uri": "https://localhost:8080/"
        },
        "id": "91GwjfPDc-F9",
        "outputId": "2daccd6e-bc06-436f-bf43-c0ef73d36917"
      },
      "execution_count": 22,
      "outputs": [
        {
          "output_type": "stream",
          "name": "stderr",
          "text": [
            "\r[*********************100%%**********************]  1 of 1 completed"
          ]
        },
        {
          "output_type": "stream",
          "name": "stdout",
          "text": [
            "1/1 [==============================] - 0s 33ms/step\n",
            "1/1 [==============================] - 0s 28ms/step\n"
          ]
        },
        {
          "output_type": "stream",
          "name": "stderr",
          "text": [
            "\n"
          ]
        },
        {
          "output_type": "stream",
          "name": "stdout",
          "text": [
            "1/1 [==============================] - 0s 31ms/step\n",
            "1/1 [==============================] - 0s 28ms/step\n",
            "Predicted Stock Prices for the next 4 days:  [177.60266, 179.16083, 180.50003, 181.30255]\n"
          ]
        }
      ]
    },
    {
      "cell_type": "markdown",
      "source": [
        "# Visualization of Predictions\n",
        "Comparing the predicted values with actual stock prices visually can be very insightful. Below is the code to plot the predicted stock prices against the actual data:"
      ],
      "metadata": {
        "id": "ONly2iR1danr"
      }
    },
    {
      "cell_type": "code",
      "source": [
        "!pip install mplfinance -qqq\n",
        "import pandas as pd\n",
        "import mplfinance as mpf\n",
        "import matplotlib.dates as mpl_dates\n",
        "import matplotlib.pyplot as plt\n",
        "\n",
        "# Assuming 'data' is your DataFrame with the fetched AAPL stock data\n",
        "# Make sure it contains Open, High, Low, Close, and Volume columns\n",
        "\n",
        "# Creating a list of dates for the predictions\n",
        "last_date = data.index[-1]\n",
        "next_day = last_date + pd.Timedelta(days=1)\n",
        "prediction_dates = pd.date_range(start=next_day, periods=4)\n",
        "\n",
        "# Assuming 'predicted_prices' is your list of predicted prices for the next 4 days\n",
        "predictions_df = pd.DataFrame(index=prediction_dates, data=predicted_prices, columns=['Close'])\n",
        "\n",
        "# Plotting the actual data with mplfinance\n",
        "mpf.plot(data, type='candle', style='charles', volume=True)\n",
        "\n",
        "# Overlaying the predicted data\n",
        "plt.figure(figsize=(10,6))\n",
        "plt.plot(predictions_df.index, predictions_df['Close'], linestyle='dashed', marker='o', color='red')\n",
        "\n",
        "plt.title(\"AAPL Stock Price with Predicted Next 4 Days\")\n",
        "plt.show()"
      ],
      "metadata": {
        "colab": {
          "base_uri": "https://localhost:8080/",
          "height": 1000
        },
        "id": "EosgOFzBdlFn",
        "outputId": "669d5291-a552-4ec3-dbe9-f762d2b49c55"
      },
      "execution_count": 23,
      "outputs": [
        {
          "output_type": "stream",
          "name": "stdout",
          "text": [
            "\u001b[?25l     \u001b[90m━━━━━━━━━━━━━━━━━━━━━━━━━━━━━━━━━━━━━━━━\u001b[0m \u001b[32m0.0/75.0 kB\u001b[0m \u001b[31m?\u001b[0m eta \u001b[36m-:--:--\u001b[0m\r\u001b[2K     \u001b[90m━━━━━━━━━━━━━━━━━━━━━━━━━━━━━━━━━━━━━━━━\u001b[0m \u001b[32m75.0/75.0 kB\u001b[0m \u001b[31m2.7 MB/s\u001b[0m eta \u001b[36m0:00:00\u001b[0m\n",
            "\u001b[?25h"
          ]
        },
        {
          "output_type": "display_data",
          "data": {
            "text/plain": [
              "<Figure size 800x575 with 4 Axes>"
            ],
            "image/png": "[encoded data removed]"
          },
          "metadata": {}
        },
        {
          "output_type": "display_data",
          "data": {
            "text/plain": [
              "<Figure size 1000x600 with 1 Axes>"
            ],
            "image/png": "[encoded data removed]"
          },
          "metadata": {}
        }
      ]
    },
    {
      "cell_type": "markdown",
      "source": [
        "# Final Visual for Predictions:"
      ],
      "metadata": {
        "id": "Q-OyByQfd6Bx"
      }
    },
    {
      "cell_type": "code",
      "source": [
        "import pandas as pd\n",
        "import mplfinance as mpf\n",
        "import matplotlib.dates as mpl_dates\n",
        "import matplotlib.pyplot as plt\n",
        "\n",
        "# Fetch the latest 60 days of AAPL stock data\n",
        "data = yf.download('AAPL', period='64d', interval='1d') # Fetch 64 days to display last 60 days in the chart\n",
        "\n",
        "# Select 'Close' price and scale it\n",
        "closing_prices = data['Close'].values.reshape(-1, 1)\n",
        "scaler = MinMaxScaler(feature_range=(0, 1))\n",
        "scaled_data = scaler.fit_transform(closing_prices)\n",
        "\n",
        "# Predict the next 4 days iteratively\n",
        "predicted_prices = []\n",
        "current_batch = scaled_data[-60:].reshape(1, 60, 1)  # Most recent 60 days\n",
        "\n",
        "for i in range(4):  # Predicting 4 days\n",
        "    next_prediction = model.predict(current_batch)\n",
        "    next_prediction_reshaped = next_prediction.reshape(1, 1, 1)\n",
        "    current_batch = np.append(current_batch[:, 1:, :], next_prediction_reshaped, axis=1)\n",
        "    predicted_prices.append(scaler.inverse_transform(next_prediction)[0, 0])\n",
        "\n",
        "# Creating a list of dates for the predictions\n",
        "last_date = data.index[-1]\n",
        "next_day = last_date + pd.Timedelta(days=1)\n",
        "prediction_dates = pd.date_range(start=next_day, periods=4)\n",
        "\n",
        "# Adding predictions to the DataFrame\n",
        "predicted_data = pd.DataFrame(index=prediction_dates, data=predicted_prices, columns=['Close'])\n",
        "\n",
        "# Combining both actual and predicted data\n",
        "combined_data = pd.concat([data['Close'], predicted_data['Close']])\n",
        "combined_data = combined_data[-64:] # Last 60 days of actual data + 4 days of predictions\n",
        "\n",
        "# Plotting the actual data\n",
        "plt.figure(figsize=(10,6))\n",
        "plt.plot(data.index[-60:], data['Close'][-60:], linestyle='-', marker='o', color='blue', label='Actual Data')\n",
        "\n",
        "# Plotting the predicted data\n",
        "plt.plot(prediction_dates, predicted_prices, linestyle='-', marker='o', color='red', label='Predicted Data')\n",
        "\n",
        "plt.title(\"AAPL Stock Price: Last 60 Days and Next 4 Days Predicted\")\n",
        "plt.xlabel('Date')\n",
        "plt.ylabel('Price')\n",
        "plt.legend()\n",
        "plt.show()"
      ],
      "metadata": {
        "colab": {
          "base_uri": "https://localhost:8080/",
          "height": 659
        },
        "id": "AgKlUt0aeBRY",
        "outputId": "5fd8c019-e7e3-4753-9e40-f58a5ee553c3"
      },
      "execution_count": 24,
      "outputs": [
        {
          "output_type": "stream",
          "name": "stderr",
          "text": [
            "\r[*********************100%%**********************]  1 of 1 completed"
          ]
        },
        {
          "output_type": "stream",
          "name": "stdout",
          "text": [
            "1/1 [==============================] - 0s 29ms/step\n",
            "1/1 [==============================] - 0s 32ms/step\n"
          ]
        },
        {
          "output_type": "stream",
          "name": "stderr",
          "text": [
            "\n"
          ]
        },
        {
          "output_type": "stream",
          "name": "stdout",
          "text": [
            "1/1 [==============================] - 0s 28ms/step\n",
            "1/1 [==============================] - 0s 28ms/step\n"
          ]
        },
        {
          "output_type": "display_data",
          "data": {
            "text/plain": [
              "<Figure size 1000x600 with 1 Axes>"
            ],
            "image/png": "[encoded data removed]"
          },
          "metadata": {}
        }
      ]
    }
  ]
}